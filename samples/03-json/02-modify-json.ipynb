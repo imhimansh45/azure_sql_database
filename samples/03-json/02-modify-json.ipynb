{
    "metadata": {
        "kernelspec": {
            "name": "SQL",
            "display_name": "SQL",
            "language": "sql"
        },
        "language_info": {
            "name": "sql",
            "version": ""
        }
    },
    "nbformat_minor": 2,
    "nbformat": 4,
    "cells": [
        {
            "cell_type": "markdown",
            "source": [
                "# Modify JSON documents"
            ],
            "metadata": {
                "azdata_cell_guid": "b1ef1705-f7e4-46a9-b5b8-f05573c82c6d"
            }
        },
        {
            "cell_type": "markdown",
            "source": [
                "With [JSON_MODIFY](https://docs.microsoft.com/en-us/sql/t-sql/functions/json-modify-transact-sql) it is possibile to manipulate JSON to add/remove/update elements."
            ],
            "metadata": {
                "azdata_cell_guid": "f1ce4baf-b795-4753-8a20-5abffee8b065"
            }
        },
        {
            "cell_type": "code",
            "source": [
                "declare @json varchar(max)\r\n",
                "set @json = \r\n",
                "N'{\r\n",
                "  \"firstName\": \"John\",\r\n",
                "  \"lastName\": \"Smith\",\r\n",
                "  \"children\": []\r\n",
                "}';\r\n",
                "\r\n",
                "select * from\r\n",
                "( values  \r\n",
                "\t('Update existing value',           json_modify(@json, '$.firstName', 'Dave')),\r\n",
                "\t('Insert scalar value',             json_modify(@json, '$.isAlive', 'true')),\r\n",
                "\t('Insert array',                    json_modify(@json, '$.preferredColors', json_query('[\"Blue\", \"Black\"]'))), -- please note json_query usage to avoid escaping\r\n",
                "\t('Append to array',                 json_modify(@json, 'append $.children', 'Annette')), \r\n",
                "\t('Replace an array with a scalar',  json_modify(@json, '$.children', 'Annette')), \r\n",
                "\t('Add an object',                   json_modify(@json, '$.phoneNumbers', json_query('{\"type\": \"home\",\"number\": \"212 555-1234\"}'))), -- please note json_query usage to avoid escaping\r\n",
                "\t('Remove an object',                json_modify(@json, '$.firstName', null))\r\n",
                ") t([action], result)\r\n",
                "go\r\n",
                "\r\n",
                ""
            ],
            "metadata": {
                "azdata_cell_guid": "1742a7ba-7a06-4f77-a173-a52377feb797"
            },
            "outputs": [
                {
                    "output_type": "display_data",
                    "data": {
                        "text/html": "(7 rows affected)"
                    },
                    "metadata": {}
                },
                {
                    "output_type": "display_data",
                    "data": {
                        "text/html": "Total execution time: 00:00:00.019"
                    },
                    "metadata": {}
                },
                {
                    "output_type": "execute_result",
                    "metadata": {},
                    "execution_count": 3,
                    "data": {
                        "application/vnd.dataresource+json": {
                            "schema": {
                                "fields": [
                                    {
                                        "name": "action"
                                    },
                                    {
                                        "name": "result"
                                    }
                                ]
                            },
                            "data": [
                                {
                                    "0": "Update existing value",
                                    "1": "{\r\n  \"firstName\": \"Dave\",\r\n  \"lastName\": \"Smith\",\r\n  \"children\": []\r\n}"
                                },
                                {
                                    "0": "Insert scalar value",
                                    "1": "{\r\n  \"firstName\": \"John\",\r\n  \"lastName\": \"Smith\",\r\n  \"children\": []\r\n,\"isAlive\":\"true\"}"
                                },
                                {
                                    "0": "Insert array",
                                    "1": "{\r\n  \"firstName\": \"John\",\r\n  \"lastName\": \"Smith\",\r\n  \"children\": []\r\n,\"preferredColors\":[\"Blue\", \"Black\"]}"
                                },
                                {
                                    "0": "Append to array",
                                    "1": "{\r\n  \"firstName\": \"John\",\r\n  \"lastName\": \"Smith\",\r\n  \"children\": [\"Annette\"]\r\n}"
                                },
                                {
                                    "0": "Replace an array with a scalar",
                                    "1": "{\r\n  \"firstName\": \"John\",\r\n  \"lastName\": \"Smith\",\r\n  \"children\": \"Annette\"\r\n}"
                                },
                                {
                                    "0": "Add an object",
                                    "1": "{\r\n  \"firstName\": \"John\",\r\n  \"lastName\": \"Smith\",\r\n  \"children\": []\r\n,\"phoneNumbers\":{\"type\": \"home\",\"number\": \"212 555-1234\"}}"
                                },
                                {
                                    "0": "Remove an object",
                                    "1": "{\r\n  \r\n  \"lastName\": \"Smith\",\r\n  \"children\": []\r\n}"
                                }
                            ]
                        },
                        "text/html": "<table><tr><th>action</th><th>result</th></tr><tr><td>Update existing value</td><td>{\r\n  &quot;firstName&quot;: &quot;Dave&quot;,\r\n  &quot;lastName&quot;: &quot;Smith&quot;,\r\n  &quot;children&quot;: []\r\n}</td></tr><tr><td>Insert scalar value</td><td>{\r\n  &quot;firstName&quot;: &quot;John&quot;,\r\n  &quot;lastName&quot;: &quot;Smith&quot;,\r\n  &quot;children&quot;: []\r\n,&quot;isAlive&quot;:&quot;true&quot;}</td></tr><tr><td>Insert array</td><td>{\r\n  &quot;firstName&quot;: &quot;John&quot;,\r\n  &quot;lastName&quot;: &quot;Smith&quot;,\r\n  &quot;children&quot;: []\r\n,&quot;preferredColors&quot;:[&quot;Blue&quot;, &quot;Black&quot;]}</td></tr><tr><td>Append to array</td><td>{\r\n  &quot;firstName&quot;: &quot;John&quot;,\r\n  &quot;lastName&quot;: &quot;Smith&quot;,\r\n  &quot;children&quot;: [&quot;Annette&quot;]\r\n}</td></tr><tr><td>Replace an array with a scalar</td><td>{\r\n  &quot;firstName&quot;: &quot;John&quot;,\r\n  &quot;lastName&quot;: &quot;Smith&quot;,\r\n  &quot;children&quot;: &quot;Annette&quot;\r\n}</td></tr><tr><td>Add an object</td><td>{\r\n  &quot;firstName&quot;: &quot;John&quot;,\r\n  &quot;lastName&quot;: &quot;Smith&quot;,\r\n  &quot;children&quot;: []\r\n,&quot;phoneNumbers&quot;:{&quot;type&quot;: &quot;home&quot;,&quot;number&quot;: &quot;212 555-1234&quot;}}</td></tr><tr><td>Remove an object</td><td>{\r\n  \r\n  &quot;lastName&quot;: &quot;Smith&quot;,\r\n  &quot;children&quot;: []\r\n}</td></tr></table>"
                    }
                }
            ],
            "execution_count": 3
        },
        {
            "cell_type": "markdown",
            "source": [
                "Changes can be done right in-place, without the need to load JSON into a variable. Here's an example:"
            ],
            "metadata": {
                "azdata_cell_guid": "a21bed33-0d25-4d84-bfa2-1d20f2a7751d"
            }
        },
        {
            "cell_type": "code",
            "source": [
                "-- Add a new sample user\r\n",
                "insert into dbo.users_json\r\n",
                "select 42, json_data = N'{\"firstName\": \"Joe\", \"lastName\": \"Black\"}';\r\n",
                "\r\n",
                "-- Update last name\r\n",
                "update \r\n",
                "\tdbo.users_json\r\n",
                "set\r\n",
                "\tjson_data = json_modify(json_data, '$.lastName', 'Green')\r\n",
                "where \r\n",
                "    id = 42;\r\n",
                "\r\n",
                "-- Add Phone Number\r\n",
                "update \r\n",
                "\tdbo.users_json\r\n",
                "set\r\n",
                "\tjson_data = json_modify(\t\r\n",
                "            json_data,\t\t\r\n",
                "\t\t\t'append $.phoneNumbers',\r\n",
                "\t\t\tjson_query('{\"type\": \"fax\",\"number\": \"212 555-1234\"}')\r\n",
                "\t\t\t)\r\n",
                "where \r\n",
                "\tjson_value(json_data, '$.firstName') = 'Joe';\r\n",
                "\r\n",
                "-- View result\r\n",
                "select * from dbo.users_json where id = 42\r\n",
                ""
            ],
            "metadata": {
                "azdata_cell_guid": "e143dc2c-a1c2-48c2-8f55-ab23eab821e7"
            },
            "outputs": [
                {
                    "output_type": "display_data",
                    "data": {
                        "text/html": "(1 row affected)"
                    },
                    "metadata": {}
                },
                {
                    "output_type": "display_data",
                    "data": {
                        "text/html": "(1 row affected)"
                    },
                    "metadata": {}
                },
                {
                    "output_type": "display_data",
                    "data": {
                        "text/html": "(1 row affected)"
                    },
                    "metadata": {}
                },
                {
                    "output_type": "display_data",
                    "data": {
                        "text/html": "(1 row affected)"
                    },
                    "metadata": {}
                },
                {
                    "output_type": "display_data",
                    "data": {
                        "text/html": "Total execution time: 00:00:00.018"
                    },
                    "metadata": {}
                },
                {
                    "output_type": "execute_result",
                    "metadata": {},
                    "execution_count": 10,
                    "data": {
                        "application/vnd.dataresource+json": {
                            "schema": {
                                "fields": [
                                    {
                                        "name": "id"
                                    },
                                    {
                                        "name": "json_data"
                                    }
                                ]
                            },
                            "data": [
                                {
                                    "0": "42",
                                    "1": "{\"firstName\": \"Joe\", \"lastName\": \"Green\",\"phoneNumbers\":[{\"type\": \"fax\",\"number\": \"212 555-1234\"}]}"
                                }
                            ]
                        },
                        "text/html": "<table><tr><th>id</th><th>json_data</th></tr><tr><td>42</td><td>{&quot;firstName&quot;: &quot;Joe&quot;, &quot;lastName&quot;: &quot;Green&quot;,&quot;phoneNumbers&quot;:[{&quot;type&quot;: &quot;fax&quot;,&quot;number&quot;: &quot;212 555-1234&quot;}]}</td></tr></table>"
                    }
                }
            ],
            "execution_count": 10
        },
        {
            "cell_type": "markdown",
            "source": [
                "Clean up"
            ],
            "metadata": {
                "azdata_cell_guid": "58c4ab33-84aa-4b92-b697-1b48254f1239"
            }
        },
        {
            "cell_type": "code",
            "source": [
                "delete from dbo.users_json where id = 42"
            ],
            "metadata": {
                "azdata_cell_guid": "878f208b-a34a-4a97-9dc4-517f6f7e41e7"
            },
            "outputs": [
                {
                    "output_type": "display_data",
                    "data": {
                        "text/html": "(0 rows affected)"
                    },
                    "metadata": {}
                },
                {
                    "output_type": "display_data",
                    "data": {
                        "text/html": "Total execution time: 00:00:00.007"
                    },
                    "metadata": {}
                }
            ],
            "execution_count": 9
        }
    ]
}