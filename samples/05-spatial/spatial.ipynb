{
    "metadata": {
        "kernelspec": {
            "name": "SQL",
            "display_name": "SQL",
            "language": "sql"
        },
        "language_info": {
            "name": "sql",
            "version": ""
        }
    },
    "nbformat_minor": 2,
    "nbformat": 4,
    "cells": [
        {
            "cell_type": "markdown",
            "source": [
                "# GeoSpatial Support\r\n",
                "\r\n",
                "Azure SQL offer extensive GeoSpatial support. Thanks to this support you can easily create solution that can manipulate and take advantage of this to offer geospatial capabilities in your applications without having to integrate external libraries or solution, and without having to deal with all the huge complexity of planar mapping, spheric coordinates, projects and stuff like that.\r\n",
                "\r\n",
                "- [Spatial Data](https://docs.microsoft.com/en-us/sql/relational-databases/spatial/spatial-data-sql-server?view=azuresqldb-current)\r\n",
                "- [Spatial Data Types Overview](https://docs.microsoft.com/en-us/sql/relational-databases/spatial/spatial-data-types-overview?view=azuresqldb-current)\r\n",
                ""
            ],
            "metadata": {
                "azdata_cell_guid": "d2b1e6b5-dd8c-4a3e-9c5f-c06851d014de"
            }
        },
        {
            "cell_type": "markdown",
            "source": [
                "## Geometry or Geography?\n",
                "\n",
                " - Geometry: Planar data (flat-earth), Euclidean Coordinates (X,Y)\n",
                " - Geography: Ellipsoidal data (round-earth), GPS Coordinates (Lat, Long)\n",
                "\n",
                ""
            ],
            "metadata": {
                "azdata_cell_guid": "48d3f1cc-bdfc-44c1-931e-984be3fea07b"
            }
        },
        {
            "cell_type": "code",
            "source": [
                "declare @p1 geometry = geometry::Parse('POINT(5 40)')\r\n",
                "declare @p2 geometry = geometry::Parse('POINT(15 50)')\r\n",
                "\r\n",
                "select \r\n",
                "    geometry::CollectionAggregate(g).ToString() as WKT,\r\n",
                "    @p1.STDistance(@p2) as Distance,\r\n",
                "    sqrt(power((@p1.STX-@p2.STX),2) + power((@p1.STY-@p2.STY),2)) as MyDistance -- Distance is calculated using the well known Pythagorean theorem \r\n",
                "from \r\n",
                "    (values (@p1), (@p2)) as T(g)"
            ],
            "metadata": {
                "azdata_cell_guid": "9ae46a24-9b65-4bb6-aea3-d78540ab317e",
                "tags": []
            },
            "outputs": [
                {
                    "output_type": "display_data",
                    "data": {
                        "text/html": "(1 row affected)"
                    },
                    "metadata": {}
                },
                {
                    "output_type": "display_data",
                    "data": {
                        "text/html": "Total execution time: 00:00:00.026"
                    },
                    "metadata": {}
                },
                {
                    "output_type": "execute_result",
                    "metadata": {},
                    "execution_count": 14,
                    "data": {
                        "application/vnd.dataresource+json": {
                            "schema": {
                                "fields": [
                                    {
                                        "name": "WKT"
                                    },
                                    {
                                        "name": "Distance"
                                    },
                                    {
                                        "name": "MyDistance"
                                    }
                                ]
                            },
                            "data": [
                                {
                                    "0": "GEOMETRYCOLLECTION (POINT (5 40), POINT (15 50))",
                                    "1": "14.142135623730951",
                                    "2": "14.142135623730951"
                                }
                            ]
                        },
                        "text/html": [
                            "<table>",
                            "<tr><th>WKT</th><th>Distance</th><th>MyDistance</th></tr>",
                            "<tr><td>GEOMETRYCOLLECTION (POINT (5 40), POINT (15 50))</td><td>14.142135623730951</td><td>14.142135623730951</td></tr>",
                            "</table>"
                        ]
                    }
                }
            ],
            "execution_count": 14
        },
        {
            "cell_type": "markdown",
            "source": [
                "## Left Hand Rule for Polygons on Geography\r\n",
                "\r\n",
                "Polygons must be created by using the \"Left Hand Rule\": if walking on the perimeter of the polygon, you're hand will be *inside* the polygon."
            ],
            "metadata": {
                "azdata_cell_guid": "d00197f7-a46d-4aae-8d49-b8f67a885b61"
            }
        },
        {
            "cell_type": "code",
            "source": [
                "-- Note: Run on SSMS to see result\r\n",
                "\r\n",
                "-- This is Microsoft Bulding 44\r\n",
                "declare @bldg44 geography = geography::STPolyFromText('POLYGON((-122.13325278570375 47.64017318297519,-122.13287316603494 47.64017318297519,-122.13287803277747 47.64062243903447,-122.13261521918578 47.64062899746915,-122.13261521918578 47.64099954879444,-122.13333065653097 47.64099954879444,-122.13332578946104 47.641406168521314,-122.13376381233213 47.64139305179111,-122.13374434470715 47.640953639949714,-122.13400715862628 47.640947081555765,-122.13396822304897 47.6405732506378,-122.13327712039866 47.64057652985835,-122.13325278570375 47.64017318297519))', 4326)\r\n",
                "select @bldg44\r\n",
                "\r\n",
                "-- This is NOT Microsoft Building 44 :)\r\n",
                "declare @not_bldg44 geography = geography::STPolyFromText('POLYGON((-122.13372461955305 47.64139305179111,-122.13333039885292 47.64139305179111,-122.13332553178299 47.64096675679025,-122.13266363057011 47.64096675679025,-122.13266849764004 47.64061588059897,-122.13286804128695 47.64061915981682,-122.13286804128695 47.640179741466255,-122.13325739509567 47.64017646222081,-122.13325739509567 47.640586367518694,-122.13402150150324 47.64058964673842,-122.13401663476071 47.640937243908155,-122.13372461940418 47.640933964710285,-122.13372461955305 47.64139305179111))', 4326)\r\n",
                "select @not_bldg44\r\n",
                ""
            ],
            "metadata": {
                "azdata_cell_guid": "0df35cbe-9cf0-4d64-9052-81898c49c436"
            },
            "outputs": [
                {
                    "output_type": "display_data",
                    "data": {
                        "text/html": "(1 row affected)"
                    },
                    "metadata": {}
                },
                {
                    "output_type": "display_data",
                    "data": {
                        "text/html": "Total execution time: 00:00:00.042"
                    },
                    "metadata": {}
                },
                {
                    "output_type": "execute_result",
                    "metadata": {},
                    "execution_count": 17,
                    "data": {
                        "application/vnd.dataresource+json": {
                            "schema": {
                                "fields": [
                                    {
                                        "name": "(No column name)"
                                    }
                                ]
                            },
                            "data": [
                                {
                                    "0": "0xE610000001040D000000CC53E231F1D14740B42CB13687885EC0CC53E231F1D14740B5A873FE80885EC0505E84EAFFD14740B548DD1281885EC0E87F882100D24740B5568BC47C885EC05469F1450CD24740B5568BC47C885EC05469F1450CD24740B4564E7D88885EC038A0EA9819D24740B55CE46888885EC088A9E22A19D24740B5D617968F885EC008EBD4C40AD24740B3A270448F885EC0D4DFD08D0AD24740B4EEC29293885EC04417E54DFED14740B52C74EF92885EC0D4296769FED14740B55AC29C87885EC0CC53E231F1D14740B42CB13687885EC001000000020000000001000000FFFFFFFF0000000003"
                                }
                            ]
                        },
                        "text/html": [
                            "<table>",
                            "<tr><th>(No column name)</th></tr>",
                            "<tr><td>0xE610000001040D000000CC53E231F1D14740B42CB13687885EC0CC53E231F1D14740B5A873FE80885EC0505E84EAFFD14740B548DD1281885EC0E87F882100D24740B5568BC47C885EC05469F1450CD24740B5568BC47C885EC05469F1450CD24740B4564E7D88885EC038A0EA9819D24740B55CE46888885EC088A9E22A19D24740B5D617968F885EC008EBD4C40AD24740B3A270448F885EC0D4DFD08D0AD24740B4EEC29293885EC04417E54DFED14740B52C74EF92885EC0D4296769FED14740B55AC29C87885EC0CC53E231F1D14740B42CB13687885EC001000000020000000001000000FFFFFFFF0000000003</td></tr>",
                            "</table>"
                        ]
                    }
                }
            ],
            "execution_count": 17
        },
        {
            "cell_type": "markdown",
            "source": [
                "## Playground"
            ],
            "metadata": {
                "azdata_cell_guid": "dd2452fe-cdbd-4a9a-9685-6749f54a6d0e"
            }
        },
        {
            "cell_type": "code",
            "source": [
                "drop table if exists #t;\r\n",
                "create table #t (p varchar(100) primary key, g geometry);\r\n",
                "go\r\n",
                "\r\n",
                "-- Hollow Square\r\n",
                "declare @p geometry = geometry::Parse('POLYGON((50 0, 150 0, 150 100, 50 100, 50 0), (80 30, 120 30, 120 70, 80 70, 80 30))')\r\n",
                "select @p;\r\n",
                "insert into #t values ('Hollow Square', @p)\r\n",
                "go\r\n",
                "\r\n",
                "-- Donut\r\n",
                "declare @p geometry = geometry::Parse('POINT(50 50)').STBuffer(50)\r\n",
                "declare @p2 geometry = geometry::Parse('POINT(50 50)').STBuffer(30)\r\n",
                "declare @donut geometry =  @p.STDifference(@p2)\r\n",
                "select @donut, @donut.ToString()\r\n",
                "insert into #t values ('Donut', @donut)\r\n",
                "go\r\n",
                "\r\n",
                "-- Playground\r\n",
                "select * from #t\r\n",
                "\r\n",
                "declare @hs geometry = (select g from #t where p = 'Hollow Square')\r\n",
                "select @hs.STArea() as Area\r\n",
                "\r\n",
                "declare @hs geometry = (select g from #t where p = 'Hollow Square')\r\n",
                "declare @d geometry = (select g from #t where p = 'Donut')\r\n",
                "select @hs.STIntersects(@d)\r\n",
                "select @hs.STIntersection(@d)\r\n",
                "\r\n",
                "declare @p geometry = geometry::Parse('POINT(63 43)')\r\n",
                "select * from #t where @p.STWithin(g) = 1\r\n",
                "\r\n",
                "declare @p geometry = geometry::Parse('POINT(63 43)')\r\n",
                "select * from #t where g.STContains(@p) = 1\r\n",
                "\r\n",
                "declare @pt geometry = geometry::Parse('POINT(0 0)')\r\n",
                "select p as Polygon, @pt.STDistance(g) as DistanceFrom from [#t]"
            ],
            "metadata": {
                "azdata_cell_guid": "ae3fd78e-d450-4a09-bada-250175d68b13"
            },
            "outputs": [],
            "execution_count": null
        },
        {
            "cell_type": "markdown",
            "source": [
                "## Store real-world data\r\n",
                "\r\n",
                "Create a table that allows you to start geospatial data, using the [geography](https://docs.microsoft.com/en-us/sql/relational-databases/spatial/create-construct-and-query-geography-instances?view\r\n",
                ") data type."
            ],
            "metadata": {
                "azdata_cell_guid": "968b34b7-b3a6-4027-b18b-eb434e61ca30"
            }
        },
        {
            "cell_type": "code",
            "source": [
                "DROP TABLE IF EXISTS [dbo].[MetroBusData]\r\n",
                "GO\r\n",
                "\r\n",
                "CREATE TABLE [dbo].[MetroBusData]\r\n",
                "(\r\n",
                "\t[Id] [int] NOT NULL,\r\n",
                "\t[LineDirectionId] [int] NOT NULL,\r\n",
                "\t[VehicleId] [int] NOT NULL,\r\n",
                "\t[TimestampUTC] [datetime2](7) NOT NULL,\r\n",
                "\t[TimestampLocal] [datetimeoffset](7) NOT NULL,\r\n",
                "\t[Location] [geography] NOT NULL,\r\n",
                "\t[Signage] [varchar](100) NOT NULL\r\n",
                ")\r\n",
                "GO\r\n",
                "\r\n",
                "ALTER TABLE dbo.MetroBusData\r\n",
                "ADD CONSTRAINT pk__MetroBusData PRIMARY KEY CLUSTERED ([Id]) \r\n",
                "WITH (DATA_COMPRESSION = PAGE)\r\n",
                "GO\r\n",
                "\r\n",
                "CREATE SPATIAL INDEX [isp] ON dbo.MetroBusData ([Location])\r\n",
                "GO"
            ],
            "metadata": {
                "azdata_cell_guid": "053c57c9-7f42-445f-968b-7def8ff7d569"
            },
            "outputs": [
                {
                    "output_type": "display_data",
                    "data": {
                        "text/html": "Commands completed successfully."
                    },
                    "metadata": {}
                },
                {
                    "output_type": "display_data",
                    "data": {
                        "text/html": "Commands completed successfully."
                    },
                    "metadata": {}
                },
                {
                    "output_type": "display_data",
                    "data": {
                        "text/html": "Commands completed successfully."
                    },
                    "metadata": {}
                },
                {
                    "output_type": "display_data",
                    "data": {
                        "text/html": "Total execution time: 00:00:00.085"
                    },
                    "metadata": {}
                }
            ],
            "execution_count": 2
        },
        {
            "cell_type": "markdown",
            "source": [
                "In this repo sample spatial data is provided in the file `busdata-20200901.bcp`. \r\n",
                "\r\n",
                "> Note: Transit scheduling, geographic, and real-time data provided by permission of King County\r\n",
                "[King County Metro Developer Resources](https://kingcounty.gov/depts/transportation/metro/travel-options/bus/app-center/developer-resources.aspx)\r\n",
                "\r\n",
                "You can import using the `bcp` tool:\r\n",
                "\r\n",
                "```\r\n",
                "bcp dbo.MetroBusData in C:\\<your-folder>\\busdata-20200901.bcp -S <azure-sql-server>.database.windows.net -U <user> -P <password> -n -d <database>\r\n",
                "```\r\n",
                "\r\n",
                "*or* you can use `BULK INSERT`. In such case you must copy the `busdata-20200901.bcp` file into an Azure Blob Account and the configure Azure SQL to be able to access that resource, like in the following code:"
            ],
            "metadata": {
                "azdata_cell_guid": "666c2dd2-b704-4809-966f-60733fe0dc87"
            }
        },
        {
            "cell_type": "code",
            "source": [
                "/*\r\n",
                "\tCreate the Database Master Key, if needed\r\n",
                "*/\r\n",
                "CREATE MASTER KEY ENCRYPTION BY PASSWORD = 'My-L0ng&Str0ng_P4ss0wrd!';\r\n",
                "GO\r\n",
                "\r\n",
                "/*\r\n",
                "\tCreate database scoped credentials to store the Shared Access Signature (SAS) \r\n",
                "\tneeded to access the Azure Blob Container. More info on Azure Blob SAS here:\r\n",
                "\t\r\n",
                "\thttps://docs.microsoft.com/en-us/azure/storage/storage-dotnet-shared-access-signature-part-1\r\n",
                "\t\r\n",
                "    SAS can be created right from Azure Portal or Azure CLI or, the easiest way, using Azure Storage Explorer\r\n",
                "*/\r\n",
                "\r\n",
                "CREATE DATABASE SCOPED CREDENTIAL [azurestore-credentials]\r\n",
                "WITH IDENTITY = 'SHARED ACCESS SIGNATURE',\r\n",
                "SECRET = 'sv=2019-02-02&......';\r\n",
                "GO\r\n",
                "\r\n",
                "/*\r\n",
                "\tNow create the external data source and point it to the Azure Blob Store\r\n",
                "*/\r\n",
                "CREATE EXTERNAL DATA SOURCE [azurestore]\r\n",
                "WITH \r\n",
                "( \r\n",
                "\tTYPE = BLOB_STORAGE,\r\n",
                " \tLOCATION = 'https://<myaccount>.blob.core.windows.net',\r\n",
                " \tCREDENTIAL= [azurestore-credentials]\r\n",
                ");\r\n",
                "GO\r\n",
                "\r\n",
                "/*\r\n",
                "Load Data\r\n",
                "*/\r\n",
                "BULK INSERT dbo.MetroBusData FROM '<container>/busdata-20200901.bcp' WITH (TABLOCK, DATAFILETYPE  = 'native', DATA_SOURCE = 'azurestore'); \r\n",
                ""
            ],
            "metadata": {
                "azdata_cell_guid": "477a0ab9-4c8b-40e8-83e8-3275daf388e0"
            },
            "outputs": [],
            "execution_count": null
        },
        {
            "cell_type": "markdown",
            "source": [
                "You can return a [WKT (Well-Known Text) representation](https://en.wikipedia.org/wiki/Well-known_text_representation_of_geometry) of the spatial data stored in the table. The following query is aggregating into a [MULTIPOINT](https://docs.microsoft.com/en-us/sql/relational-databases/spatial/multipoint) instance all the recorded location of bus line 221 going to Redmond Transit Center on the 1st Sept 2020."
            ],
            "metadata": {
                "azdata_cell_guid": "27d235ce-5938-4365-8862-47e5d3c1b703"
            }
        },
        {
            "cell_type": "code",
            "source": [
                "with cte as\r\n",
                "(\r\n",
                "\tselect top (150)\r\n",
                "\t\t*\r\n",
                "\tfrom\r\n",
                "\t\tdbo.[MetroBusData]\r\n",
                "\twhere\r\n",
                "\t\t[VehicleId] = 7335\r\n",
                "\tand \r\n",
                "\t\t[Signage] = '221 REDMOND TC'\r\n",
                "\tand\r\n",
                "\t\tcast([TimestampLocal] as date) = '2020-09-01'\r\n",
                "\torder by\r\n",
                "\t\t[TimestampLocal] \r\n",
                ")\r\n",
                "select \r\n",
                "\tgeography::UnionAggregate([Location]).ToString() \r\n",
                "from \r\n",
                "\tcte\r\n",
                "go"
            ],
            "metadata": {
                "azdata_cell_guid": "97b3fae0-91c3-41e1-8421-b4c5e7db6876"
            },
            "outputs": [
                {
                    "output_type": "display_data",
                    "data": {
                        "text/html": "(1 row affected)"
                    },
                    "metadata": {}
                },
                {
                    "output_type": "display_data",
                    "data": {
                        "text/html": "Total execution time: 00:00:01.814"
                    },
                    "metadata": {}
                },
                {
                    "output_type": "execute_result",
                    "execution_count": 3,
                    "data": {
                        "application/vnd.dataresource+json": {
                            "schema": {
                                "fields": [
                                    {
                                        "name": "(No column name)"
                                    }
                                ]
                            },
                            "data": [
                                {
                                    "0": "MULTIPOINT ((-122.125259 47.676662), (-122.132168 47.673602), (-122.129778 47.674289), (-122.129341 47.674423), (-122.133368 47.671363), (-122.13886 47.667814), (-122.143052 47.665949), (-122.133376 47.668819), (-122.143061 47.665518), (-122.134992 47.66613), (-122.143116 47.663072), (-122.143184 47.658569), (-122.143186 47.658228), (-122.143216 47.653378), (-122.142914 47.646951), (-122.142878 47.643758), (-122.142894 47.641544), (-122.142916 47.639636), (-122.142919 47.639005), (-122.143009 47.632834), (-122.143076 47.628921), (-122.143084 47.628354), (-122.143011 47.626358), (-122.143097 47.622232), (-122.143052 47.618655), (-122.14272 47.617038), (-122.133366 47.617007), (-122.13298 47.617004), (-122.126949 47.616982), (-122.121607 47.615356), (-122.121593 47.615113), (-122.121306 47.610201), (-122.1213 47.608226), (-122.121338 47.604443), (-122.121417 47.60263), (-122.120956 47.600603), (-122.146459 47.590857), (-122.146203 47.590201), (-122.120316 47.598139), (-122.143163 47.590852), (-122.146704 47.589024), (-122.140425 47.590864), (-122.135059 47.590809), (-122.148262 47.58647), (-122.148284 47.585663), (-122.147432 47.585301), (-122.132484 47.589164), (-122.143734 47.585381), (-122.143553 47.585412), (-122.144477 47.585078), (-122.127537 47.589008), (-122.115732 47.592079), (-122.152856 47.580437), (-122.1534 47.58019), (-122.152059 47.580434), (-122.121319 47.588977), (-122.121253 47.588977), (-122.142302 47.581775), (-122.141688 47.581244), (-122.143732 47.579707))"
                                }
                            ]
                        },
                        "text/html": "<table><tr><th>(No column name)</th></tr><tr><td>MULTIPOINT ((-122.125259 47.676662), (-122.132168 47.673602), (-122.129778 47.674289), (-122.129341 47.674423), (-122.133368 47.671363), (-122.13886 47.667814), (-122.143052 47.665949), (-122.133376 47.668819), (-122.143061 47.665518), (-122.134992 47.66613), (-122.143116 47.663072), (-122.143184 47.658569), (-122.143186 47.658228), (-122.143216 47.653378), (-122.142914 47.646951), (-122.142878 47.643758), (-122.142894 47.641544), (-122.142916 47.639636), (-122.142919 47.639005), (-122.143009 47.632834), (-122.143076 47.628921), (-122.143084 47.628354), (-122.143011 47.626358), (-122.143097 47.622232), (-122.143052 47.618655), (-122.14272 47.617038), (-122.133366 47.617007), (-122.13298 47.617004), (-122.126949 47.616982), (-122.121607 47.615356), (-122.121593 47.615113), (-122.121306 47.610201), (-122.1213 47.608226), (-122.121338 47.604443), (-122.121417 47.60263), (-122.120956 47.600603), (-122.146459 47.590857), (-122.146203 47.590201), (-122.120316 47.598139), (-122.143163 47.590852), (-122.146704 47.589024), (-122.140425 47.590864), (-122.135059 47.590809), (-122.148262 47.58647), (-122.148284 47.585663), (-122.147432 47.585301), (-122.132484 47.589164), (-122.143734 47.585381), (-122.143553 47.585412), (-122.144477 47.585078), (-122.127537 47.589008), (-122.115732 47.592079), (-122.152856 47.580437), (-122.1534 47.58019), (-122.152059 47.580434), (-122.121319 47.588977), (-122.121253 47.588977), (-122.142302 47.581775), (-122.141688 47.581244), (-122.143732 47.579707))</td></tr></table>"
                    },
                    "metadata": {}
                }
            ],
            "execution_count": 3
        },
        {
            "cell_type": "markdown",
            "source": [
                "As Azure SQL adheres to the Open Geospatial Consortium (OGS) standard, you can take the returned WKT result and copy and paste it in any solution compliant with OGS standard, for example [OpenLayers](https://openlayers.org/):\r\n",
                "\r\n",
                "https://clydedacruz.github.io/openstreetmap-wkt-playground/\r\n",
                "\r\n",
                "![Openlayers Playground](https://raw.githubusercontent.com/yorek/azure-sql-db-samples/master/samples/05-spatial/openlayers-playground.png)"
            ],
            "metadata": {
                "azdata_cell_guid": "42f15448-48cf-4300-ade2-b59e321f8f65"
            }
        },
        {
            "cell_type": "markdown",
            "source": [
                "You can create a polygon using the aformentioned website, for example:\r\n",
                "\r\n",
                "```\r\n",
                "POLYGON((-122.14357282700348 47.616901066671886,-122.141025341366 47.61685232450776,-122.14101421569923 47.617249758593886,-122.14283305463597 47.61725350816795,-122.14283861681452 47.61845704045888,-122.14351164303936 47.6184795362212,-122.14357282700348 47.616901066671886))\r\n",
                "```\r\n",
                "\r\n",
                "and you can check if any bus was within that polygon anytime between 17:00 and 17:30"
            ],
            "metadata": {
                "azdata_cell_guid": "8ad31f2a-7066-46e4-9158-ac01a3696de0"
            }
        },
        {
            "cell_type": "code",
            "source": [
                "declare @gf as geography = geography::STGeomFromText(\r\n",
                "\t'POLYGON((-122.14357282700348 47.616901066671886,-122.141025341366 47.61685232450776,-122.14101421569923 47.617249758593886,-122.14283305463597 47.61725350816795,-122.14283861681452 47.61845704045888,-122.14351164303936 47.6184795362212,-122.14357282700348 47.616901066671886))',\r\n",
                "\t4326\r\n",
                ");\r\n",
                "select \r\n",
                "\t*\r\n",
                "from\r\n",
                "\tdbo.[MetroBusData]\r\n",
                "where\r\n",
                "\t[Signage] = '221 EDUCATION HILL'\r\n",
                "and\r\n",
                "\t[TimestampLocal] BETWEEN '2020-09-01 17:00:00 -07:00' AND '2020-09-01 17:30:00 -07:00'\r\n",
                "and\r\n",
                "\t[Location].STWithin(@gf) = 1\r\n",
                "ORDER by\r\n",
                "\t[TimestampLocal] \r\n",
                "GO"
            ],
            "metadata": {
                "azdata_cell_guid": "8f862968-c454-404f-9454-243540ea2384"
            },
            "outputs": [
                {
                    "output_type": "display_data",
                    "data": {
                        "text/html": "(2 rows affected)"
                    },
                    "metadata": {}
                },
                {
                    "output_type": "display_data",
                    "data": {
                        "text/html": "Total execution time: 00:00:00.084"
                    },
                    "metadata": {}
                },
                {
                    "output_type": "execute_result",
                    "execution_count": 4,
                    "data": {
                        "application/vnd.dataresource+json": {
                            "schema": {
                                "fields": [
                                    {
                                        "name": "Id"
                                    },
                                    {
                                        "name": "LineDirectionId"
                                    },
                                    {
                                        "name": "VehicleId"
                                    },
                                    {
                                        "name": "TimestampUTC"
                                    },
                                    {
                                        "name": "TimestampLocal"
                                    },
                                    {
                                        "name": "Location"
                                    },
                                    {
                                        "name": "Signage"
                                    }
                                ]
                            },
                            "data": [
                                {
                                    "0": "2253549",
                                    "1": "2212",
                                    "2": "7301",
                                    "3": "2020-09-02 00:21:45.3766667",
                                    "4": "2020-09-01 17:21:45.3766667 -07:00",
                                    "5": "0xE6100000010CD331E719FBCE47401A69A9BC1D895EC0",
                                    "6": "221 EDUCATION HILL"
                                },
                                {
                                    "0": "2253550",
                                    "1": "2212",
                                    "2": "7301",
                                    "3": "2020-09-02 00:22:00.4200000",
                                    "4": "2020-09-01 17:22:00.4200000 -07:00",
                                    "5": "0xE6100000010CD331E719FBCE47401A69A9BC1D895EC0",
                                    "6": "221 EDUCATION HILL"
                                }
                            ]
                        },
                        "text/html": "<table><tr><th>Id</th><th>LineDirectionId</th><th>VehicleId</th><th>TimestampUTC</th><th>TimestampLocal</th><th>Location</th><th>Signage</th></tr><tr><td>2253549</td><td>2212</td><td>7301</td><td>2020-09-02 00:21:45.3766667</td><td>2020-09-01 17:21:45.3766667 -07:00</td><td>0xE6100000010CD331E719FBCE47401A69A9BC1D895EC0</td><td>221 EDUCATION HILL</td></tr><tr><td>2253550</td><td>2212</td><td>7301</td><td>2020-09-02 00:22:00.4200000</td><td>2020-09-01 17:22:00.4200000 -07:00</td><td>0xE6100000010CD331E719FBCE47401A69A9BC1D895EC0</td><td>221 EDUCATION HILL</td></tr></table>"
                    },
                    "metadata": {}
                }
            ],
            "execution_count": 4
        },
        {
            "cell_type": "markdown",
            "source": [
                "You can also create collections of shapes, so that, for example, you can have the defined polygon and the points withing that polygon all togheter int he same shape"
            ],
            "metadata": {
                "azdata_cell_guid": "a0d63367-b6eb-44bb-ace0-c02e53e9a72f"
            }
        },
        {
            "cell_type": "code",
            "source": [
                "\r\n",
                "declare @gf as geography = geography::STGeomFromText(\r\n",
                "\t'POLYGON((-122.14357282700348 47.616901066671886,-122.141025341366 47.61685232450776,-122.14101421569923 47.617249758593886,-122.14283305463597 47.61725350816795,-122.14283861681452 47.61845704045888,-122.14351164303936 47.6184795362212,-122.14357282700348 47.616901066671886))',\r\n",
                "\t4326\r\n",
                ");\r\n",
                "with cte as\r\n",
                "(\r\n",
                "\tselect top (100)\r\n",
                "\t\t*\r\n",
                "\tfrom\r\n",
                "\t\tdbo.[MetroBusData]\r\n",
                "\twhere\r\n",
                "\t\t[Signage] = '221 EDUCATION HILL'\r\n",
                "\tand\r\n",
                "\t\t[TimestampLocal] BETWEEN '2020-09-01 17:00:00 -07:00' AND '2020-09-01 17:30:00 -07:00'\r\n",
                "\tand\r\n",
                "\t\t[Location].STWithin(@gf) = 1\r\n",
                "\torder by\r\n",
                "\t\tId desc\r\n",
                ")\r\n",
                "select \r\n",
                "\tgeography::STGeomCollFromText('GEOMETRYCOLLECTION(' + geography::UnionAggregate([Location]).ToString() + ', ' + @gf.ToString() + ')', 4326).ToString() \r\n",
                "from \r\n",
                "\tcte\r\n",
                "go"
            ],
            "metadata": {
                "azdata_cell_guid": "44958008-1c83-4384-8f6a-b107e08ea1da"
            },
            "outputs": [
                {
                    "output_type": "display_data",
                    "data": {
                        "text/html": "(1 row affected)"
                    },
                    "metadata": {}
                },
                {
                    "output_type": "display_data",
                    "data": {
                        "text/html": "Total execution time: 00:00:00.039"
                    },
                    "metadata": {}
                },
                {
                    "output_type": "execute_result",
                    "execution_count": 5,
                    "data": {
                        "application/vnd.dataresource+json": {
                            "schema": {
                                "fields": [
                                    {
                                        "name": "(No column name)"
                                    }
                                ]
                            },
                            "data": [
                                {
                                    "0": "GEOMETRYCOLLECTION (POINT (-122.14244 47.617038), POLYGON ((-122.14357282700348 47.616901066671886, -122.141025341366 47.616852324507761, -122.14101421569923 47.617249758593886, -122.14283305463597 47.617253508167948, -122.14283861681452 47.618457040458878, -122.14351164303936 47.6184795362212, -122.14357282700348 47.616901066671886)))"
                                }
                            ]
                        },
                        "text/html": "<table><tr><th>(No column name)</th></tr><tr><td>GEOMETRYCOLLECTION (POINT (-122.14244 47.617038), POLYGON ((-122.14357282700348 47.616901066671886, -122.141025341366 47.616852324507761, -122.14101421569923 47.617249758593886, -122.14283305463597 47.617253508167948, -122.14283861681452 47.618457040458878, -122.14351164303936 47.6184795362212, -122.14357282700348 47.616901066671886)))</td></tr></table>"
                    },
                    "metadata": {}
                }
            ],
            "execution_count": 5
        }
    ]
}