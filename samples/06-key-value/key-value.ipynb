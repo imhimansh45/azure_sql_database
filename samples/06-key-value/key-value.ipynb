{
    "metadata": {
        "kernelspec": {
            "name": "SQL",
            "display_name": "SQL",
            "language": "sql"
        },
        "language_info": {
            "name": "sql",
            "version": ""
        }
    },
    "nbformat_minor": 2,
    "nbformat": 4,
    "cells": [
        {
            "cell_type": "markdown",
            "source": [
                "# Use Azure-SQL as a Key-Value Store\r\n",
                "\r\n",
                "There are no specific features for create a key-value store solution, as Memory-Optimized Tables can be used very efficiently for this kind of workload.\r\n",
                "Memory-Optimized tables can be configured to be Durable or Non-Durable. In the latter case data is never persisted and they really behave like an in-memory cache. Here's some useful links:\r\n",
                "- [In-Memory OLTP in Azure SQL Database](https://azure.microsoft.com/en-us/blog/in-memory-oltp-in-azure-sql-database/)\r\n",
                "- [Transact-SQL Support for In-Memory OLTP](https://docs.microsoft.com/en-us/sql/relational-databases/in-memory-oltp/transact-sql-support-for-in-memory-oltp)\r\n",
                "- [Optimize performance by using in-memory technologies](https://docs.microsoft.com/en-us/azure/azure-sql/in-memory-oltp-overview)\r\n",
                ""
            ],
            "metadata": {
                "azdata_cell_guid": "ce606c93-6723-4ff7-af7a-3c944e4cb281"
            }
        },
        {
            "cell_type": "markdown",
            "source": [
                "## Create Key-Value Store Table\r\n",
                "\r\n",
                "Memory-Optimized Table are actually *compiled* into .DLL for maximum performances, and they use a lock-free strategy to guarantee consistency and isolation\r\n",
                ""
            ],
            "metadata": {
                "azdata_cell_guid": "56dad9fa-5027-4431-a504-65ccc6c87cd3"
            }
        },
        {
            "cell_type": "code",
            "source": [
                "if (schema_id('cache') is null)\r\n",
                "    exec('create schema [cache];')\r\n",
                "go\r\n",
                "create table [cache].MemoryStore\r\n",
                "(\r\n",
                "\t[key] bigint not null,\r\n",
                "\t[value] nvarchar(max) null,\r\n",
                "\tindex IX_Hash_Key unique hash ([key]) with (bucket_count= 100000)  \r\n",
                ") with (memory_optimized = on,  durability = schema_only);\r\n",
                "go"
            ],
            "metadata": {
                "azdata_cell_guid": "3717f9b0-021c-451f-89eb-3f2e9cb01328"
            },
            "outputs": [
                {
                    "output_type": "display_data",
                    "data": {
                        "text/html": "Commands completed successfully."
                    },
                    "metadata": {}
                },
                {
                    "output_type": "display_data",
                    "data": {
                        "text/html": "Commands completed successfully."
                    },
                    "metadata": {}
                },
                {
                    "output_type": "display_data",
                    "data": {
                        "text/html": "Total execution time: 00:00:00.500"
                    },
                    "metadata": {}
                }
            ],
            "execution_count": 31
        },
        {
            "cell_type": "markdown",
            "source": [
                "# Test Select / Insert / Update performances\r\n",
                "\r\n",
                "To test performance of In-Memory table we want to minimize or even zero-out all other external dependecies to be able only to focus on pure Azure SQL performance. For this reason it is useful to create a Stored Procedure that using the Native Compilation (so that it will be compiled into a .DLL too), will try to execute 100K SELECT/UPSERT operations as fast as possibile. To simulate a more reaslistic worjload, it will get the cached JSON document, update it and then put it back into the In-Memory table acting as Key-Value store cache."
            ],
            "metadata": {
                "azdata_cell_guid": "5fd369b5-0ee3-4d8c-93fb-bdac3da78f77"
            }
        },
        {
            "cell_type": "code",
            "source": [
                "create or alter procedure cache.[Test]\r\n",
                "with native_compilation, schemabinding\r\n",
                "as \r\n",
                "begin atomic with (transaction isolation level = snapshot, language = N'us_english')\t\r\n",
                "    declare @i int = 0;\r\n",
                "    declare @o int = 0;\r\n",
                "\twhile (@i < 100000)\r\n",
                "\tbegin\r\n",
                "\t\tdeclare @r int = cast(rand() * 100000 as int)\r\n",
                "\t\r\n",
                "\t\tdeclare @v nvarchar(max) = (select top(1) [value] from [cache].[MemoryStore] where [key]=@r);\r\n",
                "        set @o += 1;\r\n",
                "\t\r\n",
                "\t\tif (@v is not null) begin\r\n",
                "\t\t\tdeclare @c int = cast(json_value(@v, '$.counter') as int) + 1;\r\n",
                "\t\t\tupdate [cache].[MemoryStore] set [value] = json_modify(@v, '$.counter', @c) where [key] = @r\r\n",
                "            set @o += 1;\r\n",
                "        end else begin\r\n",
                "\t\t\tdeclare @value nvarchar(max) = '{\"value\": \"' + cast(sysdatetime() as nvarchar(max)) + '\", \"counter\": 1}'\r\n",
                "\t\t\tinsert into [cache].[MemoryStore] values (@r, @value)\r\n",
                "            set @o += 1;\r\n",
                "\t\tend\t\r\n",
                "\r\n",
                "\t\tset @i += 1;\r\n",
                "\tend\r\n",
                "    select total_operations = @o;\r\n",
                "end\r\n",
                "go"
            ],
            "metadata": {
                "azdata_cell_guid": "c2ee3450-77a7-483f-a49b-26e0fbca037f"
            },
            "outputs": [
                {
                    "output_type": "display_data",
                    "data": {
                        "text/html": "Commands completed successfully."
                    },
                    "metadata": {}
                },
                {
                    "output_type": "display_data",
                    "data": {
                        "text/html": "Total execution time: 00:00:00.609"
                    },
                    "metadata": {}
                }
            ],
            "execution_count": 32
        },
        {
            "cell_type": "markdown",
            "source": [
                "\r\n",
                "Run the procedure to execute the test, while taking notice of start and end time to calculate elapsed milliseconds. Remember, __100K iterations__ will be executed."
            ],
            "metadata": {
                "azdata_cell_guid": "32688954-3613-4047-b840-39f19c18e138"
            }
        },
        {
            "cell_type": "code",
            "source": [
                "delete from [cache].[MemoryStore]\r\n",
                "go\r\n",
                "declare @s datetime2, @e datetime2;\r\n",
                "set @s = sysutcdatetime();\r\n",
                "exec cache.[Test];\r\n",
                "set @e = sysutcdatetime();\r\n",
                "select slo = databasepropertyex(db_name(), 'ServiceObjective'), elapsed_msec = datediff(millisecond, @s, @e)\r\n",
                "go\r\n",
                ""
            ],
            "metadata": {
                "azdata_cell_guid": "8f16b141-4933-4069-843c-420c648ec407"
            },
            "outputs": [
                {
                    "output_type": "display_data",
                    "data": {
                        "text/html": "(63320 rows affected)"
                    },
                    "metadata": {}
                },
                {
                    "output_type": "display_data",
                    "data": {
                        "text/html": "(1 row affected)"
                    },
                    "metadata": {}
                },
                {
                    "output_type": "display_data",
                    "data": {
                        "text/html": "Total execution time: 00:00:03.070"
                    },
                    "metadata": {}
                },
                {
                    "output_type": "execute_result",
                    "metadata": {},
                    "execution_count": 34,
                    "data": {
                        "application/vnd.dataresource+json": {
                            "schema": {
                                "fields": [
                                    {
                                        "name": "total_operations"
                                    }
                                ]
                            },
                            "data": [
                                {
                                    "0": "200000"
                                }
                            ]
                        },
                        "text/html": [
                            "<table>",
                            "<tr><th>total_operations</th></tr>",
                            "<tr><td>200000</td></tr>",
                            "</table>"
                        ]
                    }
                },
                {
                    "output_type": "execute_result",
                    "metadata": {},
                    "execution_count": 34,
                    "data": {
                        "application/vnd.dataresource+json": {
                            "schema": {
                                "fields": [
                                    {
                                        "name": "slo"
                                    },
                                    {
                                        "name": "elapsed_msec"
                                    }
                                ]
                            },
                            "data": [
                                {
                                    "0": "BC_Gen5_4",
                                    "1": "2922"
                                }
                            ]
                        },
                        "text/html": [
                            "<table>",
                            "<tr><th>slo</th><th>elapsed_msec</th></tr>",
                            "<tr><td>BC_Gen5_4</td><td>2922</td></tr>",
                            "</table>"
                        ]
                    }
                }
            ],
            "execution_count": 34
        },
        {
            "cell_type": "markdown",
            "source": [
                "In something around __2.9__ seconds a 4 vCore Azure SQL database has been able to complete 100K iterations. As every iteration executed a SELECT followed by an INSERT or UPDATE, it means that 200K operations has been executed in 2.9 seconds, which in turn results to close to __69K query/sec__ !"
            ],
            "metadata": {
                "azdata_cell_guid": "ae332d29-023d-4d17-b5a9-f02598d1661a"
            }
        },
        {
            "cell_type": "markdown",
            "source": [
                "## Cleanup"
            ],
            "metadata": {
                "azdata_cell_guid": "183dc7d4-eb0e-439d-83c1-56e2fa38e17b"
            }
        },
        {
            "cell_type": "code",
            "source": [
                "drop procedure [cache].[Test]\r\n",
                "drop table [cache].[MemoryStore]\r\n",
                "go"
            ],
            "metadata": {
                "azdata_cell_guid": "95ec83f3-3966-4515-801b-6959e0918c57"
            },
            "outputs": [
                {
                    "output_type": "error",
                    "evalue": "Msg 3729, Level 16, State 1, Line 2\r\nCannot DROP TABLE 'cache.MemoryStore' because it is being referenced by object 'Get'.",
                    "ename": "",
                    "traceback": []
                },
                {
                    "output_type": "display_data",
                    "data": {
                        "text/html": "Total execution time: 00:00:00.031"
                    },
                    "metadata": {}
                }
            ],
            "execution_count": 29
        }
    ]
}