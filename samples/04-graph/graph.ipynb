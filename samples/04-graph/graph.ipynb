{
    "metadata": {
        "kernelspec": {
            "name": "SQL",
            "display_name": "SQL",
            "language": "sql"
        },
        "language_info": {
            "name": "sql",
            "version": ""
        }
    },
    "nbformat_minor": 2,
    "nbformat": 4,
    "cells": [
        {
            "cell_type": "markdown",
            "source": [
                "# Azure SQL Graph Model Support\r\n",
                "\r\n",
                "This sample creates a graph schema, as showed in Figure 1, for a hypothetical social network that has People, Restaurant and City nodes. These nodes are connected to each other using Friends, Likes, LivesIn and LocatedIn edges.\r\n",
                "\r\n",
                "![Sample schema with restaurant, city, person nodes and LivesIn, LocatedIn, Likes edges.](https://docs.microsoft.com/en-us/sql/relational-databases/graphs/media/person-cities-restaurants-tables.png?view=sql-server-ver15)"
            ],
            "metadata": {
                "azdata_cell_guid": "03ba4086-155b-41c6-ba97-2ee918765f61"
            }
        },
        {
            "cell_type": "markdown",
            "source": [
                "## Create NODE tables"
            ],
            "metadata": {
                "azdata_cell_guid": "3ee5f9e3-e17a-4f2e-90a3-cfd6b8e9e7a1"
            }
        },
        {
            "cell_type": "code",
            "source": [
                "CREATE TABLE Person (\r\n",
                "  ID INTEGER PRIMARY KEY,\r\n",
                "  [Name] VARCHAR(100)\r\n",
                ") AS NODE;\r\n",
                "\r\n",
                "CREATE TABLE Restaurant (\r\n",
                "  ID INTEGER NOT NULL,\r\n",
                "  [Name] VARCHAR(100),\r\n",
                "  [City] VARCHAR(100)\r\n",
                ") AS NODE;\r\n",
                "\r\n",
                "CREATE TABLE City (\r\n",
                "  ID INTEGER PRIMARY KEY,\r\n",
                "  [Name] VARCHAR(100),\r\n",
                "  [StateName] VARCHAR(100)\r\n",
                ") AS NODE;"
            ],
            "metadata": {
                "azdata_cell_guid": "a5747726-0ae1-4322-a63a-0ddcbffab119"
            },
            "outputs": [
                {
                    "output_type": "display_data",
                    "data": {
                        "text/html": "Commands completed successfully."
                    },
                    "metadata": {}
                },
                {
                    "output_type": "display_data",
                    "data": {
                        "text/html": "Total execution time: 00:00:00.067"
                    },
                    "metadata": {}
                }
            ],
            "execution_count": 4
        },
        {
            "cell_type": "markdown",
            "source": [
                "## Create EDGE tables"
            ],
            "metadata": {
                "azdata_cell_guid": "8e218d3e-bc7c-4012-b104-bad039d0c3db"
            }
        },
        {
            "cell_type": "code",
            "source": [
                "CREATE TABLE Likes (rating INTEGER) AS EDGE;\r\n",
                "CREATE TABLE FriendOf AS EDGE;\r\n",
                "CREATE TABLE LivesIn AS EDGE;\r\n",
                "CREATE TABLE LocatedIn AS EDGE;"
            ],
            "metadata": {
                "azdata_cell_guid": "002265dc-a5d8-49d2-bec0-2a3746958e98",
                "tags": []
            },
            "outputs": [
                {
                    "output_type": "display_data",
                    "data": {
                        "text/html": "Commands completed successfully."
                    },
                    "metadata": {}
                },
                {
                    "output_type": "display_data",
                    "data": {
                        "text/html": "Total execution time: 00:00:00.052"
                    },
                    "metadata": {}
                }
            ],
            "execution_count": 5
        },
        {
            "cell_type": "markdown",
            "source": [
                "## Insert data into NODE tables\r\n",
                "Inserting into a node table is same as inserting into a regular table\r\n",
                ""
            ],
            "metadata": {
                "azdata_cell_guid": "af634ba4-13ae-428f-9fb5-7e81e707e63a"
            }
        },
        {
            "cell_type": "code",
            "source": [
                "INSERT INTO Person (Id, name)\r\n",
                "\tVALUES (1, 'John')\r\n",
                "\t\t , (2, 'Mary')\r\n",
                "\t\t , (3, 'Alice')\r\n",
                "\t\t , (4, 'Jacob')\r\n",
                "\t\t , (5, 'Julie');\r\n",
                "\r\n",
                "INSERT INTO Restaurant (Id, name, city)\r\n",
                "\tVALUES (1, 'Taco Dell','Bellevue')\r\n",
                "\t\t , (2, 'Ginger and Spice','Seattle')\r\n",
                "\t\t , (3, 'Noodle Land', 'Redmond');\r\n",
                "\r\n",
                "INSERT INTO City (Id, name, stateName)\r\n",
                "\tVALUES (1,'Bellevue','wa')\r\n",
                "\t\t , (2,'Seattle','wa')\r\n",
                "\t\t , (3,'Redmond','wa');"
            ],
            "metadata": {
                "azdata_cell_guid": "be242f6d-4f97-4a82-979c-a086163492e8"
            },
            "outputs": [
                {
                    "output_type": "display_data",
                    "data": {
                        "text/html": "(5 rows affected)"
                    },
                    "metadata": {}
                },
                {
                    "output_type": "display_data",
                    "data": {
                        "text/html": "(3 rows affected)"
                    },
                    "metadata": {}
                },
                {
                    "output_type": "display_data",
                    "data": {
                        "text/html": "(3 rows affected)"
                    },
                    "metadata": {}
                },
                {
                    "output_type": "display_data",
                    "data": {
                        "text/html": "Total execution time: 00:00:00.072"
                    },
                    "metadata": {}
                }
            ],
            "execution_count": 6
        },
        {
            "cell_type": "markdown",
            "source": [
                "## Insert into edge table\r\n",
                "\r\n",
                "While inserting into an edge table, you need to provide the __$node_id__ from __$from_id__ and __$to_id__ system columns.\r\n",
                ""
            ],
            "metadata": {
                "azdata_cell_guid": "6c1e87a1-cecc-4b8d-9b2e-e0744775dbfb"
            }
        },
        {
            "cell_type": "code",
            "source": [
                "/* Insert which restaurants each person likes */\r\n",
                "INSERT INTO likes \r\n",
                "\tVALUES ((SELECT $node_id FROM Person WHERE ID = 1), (SELECT $node_id FROM Restaurant WHERE ID = 1), 9)\r\n",
                "\t\t , ((SELECT $node_id FROM Person WHERE ID = 2), (SELECT $node_id FROM Restaurant WHERE ID = 2), 9)\r\n",
                "\t\t , ((SELECT $node_id FROM Person WHERE ID = 3), (SELECT $node_id FROM Restaurant WHERE ID = 3), 9)\r\n",
                "\t\t , ((SELECT $node_id FROM Person WHERE ID = 4), (SELECT $node_id FROM Restaurant WHERE ID = 3), 9)\r\n",
                "\t\t , ((SELECT $node_id FROM Person WHERE ID = 5), (SELECT $node_id FROM Restaurant WHERE ID = 3), 9);\r\n",
                "\r\n",
                "/* Associate in which city live each person*/\r\n",
                "INSERT INTO livesIn \r\n",
                "\tVALUES ((SELECT $node_id FROM Person WHERE ID = 1), (SELECT $node_id FROM City WHERE ID = 1))\r\n",
                "\t\t , ((SELECT $node_id FROM Person WHERE ID = 2), (SELECT $node_id FROM City WHERE ID = 2))\r\n",
                "\t\t , ((SELECT $node_id FROM Person WHERE ID = 3), (SELECT $node_id FROM City WHERE ID = 3))\r\n",
                "\t\t , ((SELECT $node_id FROM Person WHERE ID = 4), (SELECT $node_id FROM City WHERE ID = 3))\r\n",
                "\t\t , ((SELECT $node_id FROM Person WHERE ID = 5), (SELECT $node_id FROM City WHERE ID = 1));\r\n",
                "\r\n",
                "/* Insert data where the restaurants are located */\r\n",
                "INSERT INTO locatedIn \r\n",
                "\tVALUES ((SELECT $node_id FROM Restaurant WHERE ID = 1), (SELECT $node_id FROM City WHERE ID =1))\r\n",
                "\t\t , ((SELECT $node_id FROM Restaurant WHERE ID = 2), (SELECT $node_id FROM City WHERE ID =2))\r\n",
                "\t\t , ((SELECT $node_id FROM Restaurant WHERE ID = 3), (SELECT $node_id FROM City WHERE ID =3));\r\n",
                "\r\n",
                "/* Insert data into the friendOf edge */\r\n",
                "INSERT INTO friendOf \r\n",
                "\tVALUES ((SELECT $NODE_ID FROM Person WHERE ID = 1), (SELECT $NODE_ID FROM Person WHERE ID = 2))\r\n",
                "\t\t , ((SELECT $NODE_ID FROM Person WHERE ID = 2), (SELECT $NODE_ID FROM Person WHERE ID = 3))\r\n",
                "\t\t , ((SELECT $NODE_ID FROM Person WHERE ID = 3), (SELECT $NODE_ID FROM Person WHERE ID = 1))\r\n",
                "\t\t , ((SELECT $NODE_ID FROM Person WHERE ID = 4), (SELECT $NODE_ID FROM Person WHERE ID = 2))\r\n",
                "\t\t , ((SELECT $NODE_ID FROM Person WHERE ID = 5), (SELECT $NODE_ID FROM Person WHERE ID = 4));"
            ],
            "metadata": {
                "azdata_cell_guid": "404cfc9c-1356-45dd-a9d9-230f892f9093"
            },
            "outputs": [
                {
                    "output_type": "display_data",
                    "data": {
                        "text/html": "(5 rows affected)"
                    },
                    "metadata": {}
                },
                {
                    "output_type": "display_data",
                    "data": {
                        "text/html": "(5 rows affected)"
                    },
                    "metadata": {}
                },
                {
                    "output_type": "display_data",
                    "data": {
                        "text/html": "(3 rows affected)"
                    },
                    "metadata": {}
                },
                {
                    "output_type": "display_data",
                    "data": {
                        "text/html": "(5 rows affected)"
                    },
                    "metadata": {}
                },
                {
                    "output_type": "display_data",
                    "data": {
                        "text/html": "Total execution time: 00:00:00.079"
                    },
                    "metadata": {}
                }
            ],
            "execution_count": 7
        },
        {
            "cell_type": "markdown",
            "source": [
                "## Query Graph\r\n",
                "\r\n",
                "Find Restaurants that John likes"
            ],
            "metadata": {
                "azdata_cell_guid": "640630a6-ebea-460b-868d-5919da223e3f"
            }
        },
        {
            "cell_type": "code",
            "source": [
                "SELECT Restaurant.name\r\n",
                "FROM Person, likes, Restaurant\r\n",
                "WHERE MATCH (Person-(likes)->Restaurant)\r\n",
                "AND Person.name = 'John';"
            ],
            "metadata": {
                "azdata_cell_guid": "77a4aa33-9b17-43d1-ba73-70e1f0331e26"
            },
            "outputs": [
                {
                    "output_type": "display_data",
                    "data": {
                        "text/html": "(1 row affected)"
                    },
                    "metadata": {}
                },
                {
                    "output_type": "display_data",
                    "data": {
                        "text/html": "Total execution time: 00:00:00.168"
                    },
                    "metadata": {}
                },
                {
                    "output_type": "execute_result",
                    "metadata": {},
                    "execution_count": 8,
                    "data": {
                        "application/vnd.dataresource+json": {
                            "schema": {
                                "fields": [
                                    {
                                        "name": "name"
                                    }
                                ]
                            },
                            "data": [
                                {
                                    "0": "Taco Dell"
                                }
                            ]
                        },
                        "text/html": [
                            "<table>",
                            "<tr><th>name</th></tr>",
                            "<tr><td>Taco Dell</td></tr>",
                            "</table>"
                        ]
                    }
                }
            ],
            "execution_count": 8
        },
        {
            "cell_type": "markdown",
            "source": [
                "Find Restaurants that John's friends like"
            ],
            "metadata": {
                "azdata_cell_guid": "7ad27193-9e11-41a5-8222-eacaae2e2a22"
            }
        },
        {
            "cell_type": "code",
            "source": [
                "SELECT Restaurant.name \r\n",
                "FROM Person person1, Person person2, likes, friendOf, Restaurant\r\n",
                "WHERE MATCH(person1-(friendOf)->person2-(likes)->Restaurant)\r\n",
                "AND person1.name='John';\r\n",
                ""
            ],
            "metadata": {
                "azdata_cell_guid": "db80e5bd-a183-472b-a1f8-e3d5242379ec",
                "tags": []
            },
            "outputs": [
                {
                    "output_type": "display_data",
                    "data": {
                        "text/html": "(1 row affected)"
                    },
                    "metadata": {}
                },
                {
                    "output_type": "display_data",
                    "data": {
                        "text/html": "Total execution time: 00:00:00.955"
                    },
                    "metadata": {}
                },
                {
                    "output_type": "execute_result",
                    "metadata": {},
                    "execution_count": 9,
                    "data": {
                        "application/vnd.dataresource+json": {
                            "schema": {
                                "fields": [
                                    {
                                        "name": "name"
                                    }
                                ]
                            },
                            "data": [
                                {
                                    "0": "Ginger and Spice"
                                }
                            ]
                        },
                        "text/html": [
                            "<table>",
                            "<tr><th>name</th></tr>",
                            "<tr><td>Ginger and Spice</td></tr>",
                            "</table>"
                        ]
                    }
                }
            ],
            "execution_count": 9
        },
        {
            "cell_type": "markdown",
            "source": [
                "Find people who like a restaurant in the same city they live in"
            ],
            "metadata": {
                "azdata_cell_guid": "cebc3e53-8b96-4e8c-94d2-656cc9f7cc09"
            }
        },
        {
            "cell_type": "code",
            "source": [
                "SELECT Person.name\r\n",
                "FROM Person, likes, Restaurant, livesIn, City, locatedIn\r\n",
                "WHERE MATCH (Person-(likes)->Restaurant-(locatedIn)->City AND Person-(livesIn)->City);"
            ],
            "metadata": {
                "azdata_cell_guid": "cdc03e0f-149b-46b0-a794-5145dbeef6d8"
            },
            "outputs": [
                {
                    "output_type": "display_data",
                    "data": {
                        "text/html": "(4 rows affected)"
                    },
                    "metadata": {}
                },
                {
                    "output_type": "display_data",
                    "data": {
                        "text/html": "Total execution time: 00:00:00.075"
                    },
                    "metadata": {}
                },
                {
                    "output_type": "execute_result",
                    "metadata": {},
                    "execution_count": 10,
                    "data": {
                        "application/vnd.dataresource+json": {
                            "schema": {
                                "fields": [
                                    {
                                        "name": "name"
                                    }
                                ]
                            },
                            "data": [
                                {
                                    "0": "John"
                                },
                                {
                                    "0": "Mary"
                                },
                                {
                                    "0": "Alice"
                                },
                                {
                                    "0": "Jacob"
                                }
                            ]
                        },
                        "text/html": [
                            "<table>",
                            "<tr><th>name</th></tr>",
                            "<tr><td>John</td></tr>",
                            "<tr><td>Mary</td></tr>",
                            "<tr><td>Alice</td></tr>",
                            "<tr><td>Jacob</td></tr>",
                            "</table>"
                        ]
                    }
                }
            ],
            "execution_count": 10
        },
        {
            "cell_type": "markdown",
            "source": [
                "## Cleanup"
            ],
            "metadata": {
                "azdata_cell_guid": "ac5da397-4eee-413d-8b83-1bc4b276c5d3"
            }
        },
        {
            "cell_type": "code",
            "source": [
                "DROP TABLE Person, Restaurant, City;\r\n",
                "DROP TABLE Likes, FriendOf, LivesIn, LocatedIn;"
            ],
            "metadata": {
                "azdata_cell_guid": "ace52f29-adcc-44ac-9737-c55e61451bde"
            },
            "outputs": [
                {
                    "output_type": "display_data",
                    "data": {
                        "text/html": "Commands completed successfully."
                    },
                    "metadata": {}
                },
                {
                    "output_type": "display_data",
                    "data": {
                        "text/html": "Total execution time: 00:00:00.105"
                    },
                    "metadata": {}
                }
            ],
            "execution_count": 11
        }
    ]
}